{
 "cells": [
  {
   "cell_type": "code",
   "execution_count": 6,
   "metadata": {},
   "outputs": [
    {
     "name": "stdout",
     "output_type": "stream",
     "text": [
      "frozenset({'Beer'}) - 0.8\n",
      "frozenset({'Bread'}) - 0.4\n",
      "frozenset({'Coke'}) - 0.4\n",
      "frozenset({'Daiper'}) - 0.6\n",
      "frozenset({'Diaper'}) - 0.2\n",
      "frozenset({'Eggs'}) - 0.2\n",
      "frozenset({'Milk'}) - 0.8\n",
      "frozenset({'Beer', 'Bread'}) - 0.2\n",
      "frozenset({'Beer', 'Coke'}) - 0.4\n",
      "frozenset({'Daiper', 'Beer'}) - 0.6\n",
      "frozenset({'Beer', 'Diaper'}) - 0.2\n",
      "frozenset({'Beer', 'Eggs'}) - 0.2\n",
      "frozenset({'Beer', 'Milk'}) - 0.6\n",
      "frozenset({'Daiper', 'Bread'}) - 0.2\n",
      "frozenset({'Bread', 'Eggs'}) - 0.2\n",
      "frozenset({'Bread', 'Milk'}) - 0.2\n",
      "frozenset({'Daiper', 'Coke'}) - 0.2\n",
      "frozenset({'Coke', 'Diaper'}) - 0.2\n",
      "frozenset({'Coke', 'Milk'}) - 0.4\n",
      "frozenset({'Daiper', 'Eggs'}) - 0.2\n",
      "frozenset({'Daiper', 'Milk'}) - 0.4\n",
      "frozenset({'Milk', 'Diaper'}) - 0.2\n",
      "frozenset({'Daiper', 'Beer', 'Bread'}) - 0.2\n",
      "frozenset({'Beer', 'Eggs', 'Bread'}) - 0.2\n",
      "frozenset({'Daiper', 'Beer', 'Coke'}) - 0.2\n",
      "frozenset({'Beer', 'Coke', 'Diaper'}) - 0.2\n",
      "frozenset({'Beer', 'Coke', 'Milk'}) - 0.4\n",
      "frozenset({'Daiper', 'Beer', 'Eggs'}) - 0.2\n",
      "frozenset({'Daiper', 'Beer', 'Milk'}) - 0.4\n",
      "frozenset({'Beer', 'Milk', 'Diaper'}) - 0.2\n",
      "frozenset({'Daiper', 'Bread', 'Eggs'}) - 0.2\n",
      "frozenset({'Daiper', 'Coke', 'Milk'}) - 0.2\n",
      "frozenset({'Milk', 'Coke', 'Diaper'}) - 0.2\n",
      "frozenset({'Daiper', 'Beer', 'Eggs', 'Bread'}) - 0.2\n",
      "frozenset({'Daiper', 'Beer', 'Coke', 'Milk'}) - 0.2\n",
      "frozenset({'Beer', 'Milk', 'Coke', 'Diaper'}) - 0.2\n"
     ]
    }
   ],
   "source": [
    "from apyori import apriori\n",
    "\n",
    "data=[[\"Bread\",\"Milk\"],[\"Bread\",\"Daiper\",\"Beer\",\"Eggs\"],[\"Milk\",\"Diaper\",\"Beer\",\"Coke\"],[\"Beer\",\"Milk\",\"Daiper\",\"Beer\"],[\"Beer\",\"Milk\",\"Daiper\",\"Coke\"]]\n",
    "\n",
    "minSupport=0.2\n",
    "\n",
    "result=list(apriori(data,min_support=minSupport))\n",
    "for r in result:\n",
    "    print(r.items,\"-\",r.support)"
   ]
  },
  {
   "cell_type": "code",
   "execution_count": null,
   "metadata": {},
   "outputs": [],
   "source": []
  }
 ],
 "metadata": {
  "kernelspec": {
   "display_name": "Python 3",
   "language": "python",
   "name": "python3"
  },
  "language_info": {
   "codemirror_mode": {
    "name": "ipython",
    "version": 3
   },
   "file_extension": ".py",
   "mimetype": "text/x-python",
   "name": "python",
   "nbconvert_exporter": "python",
   "pygments_lexer": "ipython3",
   "version": "3.10.4"
  },
  "orig_nbformat": 4
 },
 "nbformat": 4,
 "nbformat_minor": 2
}
